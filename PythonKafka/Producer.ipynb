{
 "cells": [
  {
   "cell_type": "code",
   "execution_count": 2,
   "metadata": {
    "ExecuteTime": {
     "end_time": "2020-06-08T16:24:53.346428Z",
     "start_time": "2020-06-08T16:24:53.343428Z"
    }
   },
   "outputs": [],
   "source": [
    "from kafka import KafkaProducer\n",
    "from time import sleep\n",
    "import json\n",
    "from datetime import datetime"
   ]
  },
  {
   "cell_type": "code",
   "execution_count": 4,
   "metadata": {
    "ExecuteTime": {
     "end_time": "2020-06-08T16:33:59.402634Z",
     "start_time": "2020-06-08T16:33:59.393733Z"
    }
   },
   "outputs": [],
   "source": [
    "producer = KafkaProducer(bootstrap_servers=['localhost:9092'],api_version=(0, 10, 1))"
   ]
  },
  {
   "cell_type": "code",
   "execution_count": 5,
   "metadata": {
    "ExecuteTime": {
     "end_time": "2020-06-08T16:34:32.037594Z",
     "start_time": "2020-06-08T16:34:32.022591Z"
    }
   },
   "outputs": [
    {
     "data": {
      "text/plain": [
       "<kafka.producer.future.FutureRecordMetadata at 0x22e86c0f6c8>"
      ]
     },
     "execution_count": 5,
     "metadata": {},
     "output_type": "execute_result"
    }
   ],
   "source": [
    "producer.send('TestTopic', b'Hello, Kafka')"
   ]
  },
  {
   "cell_type": "code",
   "execution_count": 7,
   "metadata": {
    "ExecuteTime": {
     "end_time": "2020-06-08T16:35:06.391549Z",
     "start_time": "2020-06-08T16:35:06.386453Z"
    }
   },
   "outputs": [
    {
     "data": {
      "text/plain": [
       "datetime.datetime(2020, 6, 8, 19, 35, 6, 387448)"
      ]
     },
     "execution_count": 7,
     "metadata": {},
     "output_type": "execute_result"
    }
   ],
   "source": [
    "now = datetime.now()\n",
    "now"
   ]
  },
  {
   "cell_type": "raw",
   "metadata": {},
   "source": [
    "current_time = now.strftime(\"%d/%m/%Y %H:%M:%S\")\n",
    "current_time"
   ]
  },
  {
   "cell_type": "code",
   "execution_count": 9,
   "metadata": {
    "ExecuteTime": {
     "end_time": "2020-06-08T16:41:22.251138Z",
     "start_time": "2020-06-08T16:41:02.202516Z"
    }
   },
   "outputs": [
    {
     "name": "stdout",
     "output_type": "stream",
     "text": [
      "Message sent  0\n",
      "Message sent  1\n",
      "Message sent  2\n",
      "Message sent  3\n",
      "Message sent  4\n",
      "Message sent  5\n",
      "Message sent  6\n",
      "Message sent  7\n",
      "Message sent  8\n",
      "Message sent  9\n"
     ]
    }
   ],
   "source": [
    "for i in range(10):\n",
    "    message = \"Message {}\".format(str(datetime.now().time()))\n",
    "    producer.send('TestTopic', json.dumps(message).encode('utf-8'))\n",
    "    sleep(2)\n",
    "    print(\"Message sent \", i)"
   ]
  },
  {
   "cell_type": "code",
   "execution_count": null,
   "metadata": {},
   "outputs": [],
   "source": []
  }
 ],
 "metadata": {
  "kernelspec": {
   "display_name": "Python 3",
   "language": "python",
   "name": "python3"
  },
  "language_info": {
   "codemirror_mode": {
    "name": "ipython",
    "version": 3
   },
   "file_extension": ".py",
   "mimetype": "text/x-python",
   "name": "python",
   "nbconvert_exporter": "python",
   "pygments_lexer": "ipython3",
   "version": "3.7.4"
  }
 },
 "nbformat": 4,
 "nbformat_minor": 2
}
