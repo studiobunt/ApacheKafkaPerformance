{
 "cells": [
  {
   "cell_type": "code",
   "execution_count": 4,
   "metadata": {
    "ExecuteTime": {
     "end_time": "2020-06-08T16:40:30.874741Z",
     "start_time": "2020-06-08T16:40:30.870741Z"
    }
   },
   "outputs": [],
   "source": [
    "from kafka import KafkaConsumer\n",
    "from json import loads\n",
    "import json"
   ]
  },
  {
   "cell_type": "code",
   "execution_count": 5,
   "metadata": {
    "ExecuteTime": {
     "end_time": "2020-06-08T16:40:31.461073Z",
     "start_time": "2020-06-08T16:40:31.454524Z"
    },
    "scrolled": true
   },
   "outputs": [],
   "source": [
    "consumer = KafkaConsumer('TestTopic',\n",
    "                        bootstrap_servers=['localhost:9092'],\n",
    "                        api_version=(0, 10)\n",
    "                        )"
   ]
  },
  {
   "cell_type": "code",
   "execution_count": null,
   "metadata": {
    "ExecuteTime": {
     "start_time": "2020-06-08T16:40:46.061Z"
    }
   },
   "outputs": [
    {
     "name": "stdout",
     "output_type": "stream",
     "text": [
      "b'\"Message 19:41:02.204515\"'\n",
      "b'\"Message 19:41:04.205747\"'\n",
      "b'\"Message 19:41:06.208429\"'\n",
      "b'\"Message 19:41:08.213455\"'\n",
      "b'\"Message 19:41:10.214239\"'\n",
      "b'\"Message 19:41:12.218600\"'\n",
      "b'\"Message 19:41:14.222838\"'\n",
      "b'\"Message 19:41:16.230622\"'\n",
      "b'\"Message 19:41:18.236449\"'\n",
      "b'\"Message 19:41:20.238914\"'\n"
     ]
    }
   ],
   "source": [
    "for message in consumer:\n",
    "    print(message.value)"
   ]
  },
  {
   "cell_type": "code",
   "execution_count": null,
   "metadata": {},
   "outputs": [],
   "source": []
  }
 ],
 "metadata": {
  "kernelspec": {
   "display_name": "Python 3",
   "language": "python",
   "name": "python3"
  },
  "language_info": {
   "codemirror_mode": {
    "name": "ipython",
    "version": 3
   },
   "file_extension": ".py",
   "mimetype": "text/x-python",
   "name": "python",
   "nbconvert_exporter": "python",
   "pygments_lexer": "ipython3",
   "version": "3.7.4"
  }
 },
 "nbformat": 4,
 "nbformat_minor": 2
}
